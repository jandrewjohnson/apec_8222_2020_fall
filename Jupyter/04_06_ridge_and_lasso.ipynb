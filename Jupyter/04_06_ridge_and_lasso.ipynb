{
 "cells": [
  {
   "cell_type": "markdown",
   "metadata": {
    "pycharm": {
     "name": "#%% md\n"
    }
   },
   "source": [
    "# 04_06_ridge_and_lasso\n",
    "\n",
    "Author: Justin A Johnson. Adapted from sklearn documentation and original content. License: Modified BSD License."
   ]
  },
  {
   "cell_type": "code",
   "execution_count": 67,
   "metadata": {
    "pycharm": {
     "name": "#%%\n"
    }
   },
   "outputs": [],
   "source": [
    "import matplotlib.pyplot as plt\n",
    "import numpy as np\n",
    "\n",
    "from sklearn.datasets import load_diabetes\n",
    "from sklearn.feature_selection import SelectFromModel\n",
    "from sklearn import datasets, linear_model\n",
    "from sklearn.linear_model import LassoCV, Lasso\n",
    "from sklearn.model_selection import KFold\n",
    "from sklearn.model_selection import GridSearchCV\n",
    "from sklearn.metrics import mean_squared_error, r2_score"
   ]
  },
  {
   "cell_type": "markdown",
   "metadata": {
    "pycharm": {
     "name": "#%% md\n"
    }
   },
   "source": [
    "Again we're going to use our diabetes dataset. Inspect it again just to remind yourself\n",
    "what is in it."
   ]
  },
  {
   "cell_type": "code",
   "execution_count": 68,
   "metadata": {
    "pycharm": {
     "name": "#%%\n"
    }
   },
   "outputs": [
    {
     "name": "stdout",
     "output_type": "stream",
     "text": [
      ".. _diabetes_dataset:\n",
      "\n",
      "Diabetes dataset\n",
      "----------------\n",
      "\n",
      "Ten baseline variables, age, sex, body mass index, average blood\n",
      "pressure, and six blood serum measurements were obtained for each of n =\n",
      "442 diabetes patients, as well as the response of interest, a\n",
      "quantitative measure of disease progression one year after baseline.\n",
      "\n",
      "**Data Set Characteristics:**\n",
      "\n",
      "  :Number of Instances: 442\n",
      "\n",
      "  :Number of Attributes: First 10 columns are numeric predictive values\n",
      "\n",
      "  :Target: Column 11 is a quantitative measure of disease progression one year after baseline\n",
      "\n",
      "  :Attribute Information:\n",
      "      - age     age in years\n",
      "      - sex\n",
      "      - bmi     body mass index\n",
      "      - bp      average blood pressure\n",
      "      - s1      tc, total serum cholesterol\n",
      "      - s2      ldl, low-density lipoproteins\n",
      "      - s3      hdl, high-density lipoproteins\n",
      "      - s4      tch, total cholesterol / HDL\n",
      "      - s5      ltg, possibly log of serum triglycerides level\n",
      "      - s6      glu, blood sugar level\n",
      "\n",
      "Note: Each of these 10 feature variables have been mean centered and scaled by the standard deviation times `n_samples` (i.e. the sum of squares of each column totals 1).\n",
      "\n",
      "Source URL:\n",
      "https://www4.stat.ncsu.edu/~boos/var.select/diabetes.html\n",
      "\n",
      "For more information see:\n",
      "Bradley Efron, Trevor Hastie, Iain Johnstone and Robert Tibshirani (2004) \"Least Angle Regression,\" Annals of Statistics (with discussion), 407-499.\n",
      "(https://web.stanford.edu/~hastie/Papers/LARS/LeastAngle_2002.pdf)\n",
      "['age', 'sex', 'bmi', 'bp', 's1', 's2', 's3', 's4', 's5', 's6']\n"
     ]
    }
   ],
   "source": [
    "diabetes = load_diabetes()\n",
    "\n",
    "X = diabetes.data\n",
    "y = diabetes.target\n",
    "\n",
    "feature_names = diabetes.feature_names\n",
    "\n",
    "print(diabetes['DESCR'])\n",
    "print(feature_names)\n",
    "\n"
   ]
  },
  {
   "cell_type": "markdown",
   "metadata": {
    "pycharm": {
     "name": "#%% md\n"
    }
   },
   "source": [
    "To speed up calculation, we're going to just use the first 150 observations\n",
    "using numpy slice notation to grab them out of the X, y"
   ]
  },
  {
   "cell_type": "code",
   "execution_count": 69,
   "metadata": {
    "pycharm": {
     "name": "#%%\n"
    }
   },
   "outputs": [
    {
     "data": {
      "text/plain": "array([151.,  75., 141., 206., 135.,  97., 138.,  63., 110., 310., 101.,\n        69., 179., 185., 118., 171., 166., 144.,  97., 168.,  68.,  49.,\n        68., 245., 184., 202., 137.,  85., 131., 283., 129.,  59., 341.,\n        87.,  65., 102., 265., 276., 252.,  90., 100.,  55.,  61.,  92.,\n       259.,  53., 190., 142.,  75., 142., 155., 225.,  59., 104., 182.,\n       128.,  52.,  37., 170., 170.,  61., 144.,  52., 128.,  71., 163.,\n       150.,  97., 160., 178.,  48., 270., 202., 111.,  85.,  42., 170.,\n       200., 252., 113., 143.,  51.,  52., 210.,  65., 141.,  55., 134.,\n        42., 111.,  98., 164.,  48.,  96.,  90., 162., 150., 279.,  92.,\n        83., 128., 102., 302., 198.,  95.,  53., 134., 144., 232.,  81.,\n       104.,  59., 246., 297., 258., 229., 275., 281., 179., 200., 200.,\n       173., 180.,  84., 121., 161.,  99., 109., 115., 268., 274., 158.,\n       107.,  83., 103., 272.,  85., 280., 336., 281., 118., 317., 235.,\n        60., 174., 259., 178., 128.,  96., 126.])"
     },
     "execution_count": 69,
     "metadata": {},
     "output_type": "execute_result"
    }
   ],
   "source": [
    "X = X[:150]\n",
    "y = y[:150]\n",
    "X\n",
    "y"
   ]
  },
  {
   "cell_type": "markdown",
   "metadata": {
    "pycharm": {
     "name": "#%% md\n"
    }
   },
   "source": [
    "# Class exercise: Review of OLS. Report back the MSE  of y versus the predicted y when you use the X and y variables above.\n",
    "You might want to utilize the scikit-learn linear regression tools, in particular the following functions:\n",
    "\n",
    "linear_model.LinearRegression()\n",
    ".fit(X, y)\n",
    ".predict(X)\n",
    "mean_squared_error(y, y_pred)\n",
    "\n",
    "In addition to the scikit-learn OLS, we also will be using today\n",
    "the statsmodels implementation. Let's go ahead an import it.\n",
    "I'm assuming you've already run conda install statsmodels -c conda-forge in your\n",
    "anaconda command line."
   ]
  },
  {
   "cell_type": "code",
   "execution_count": 70,
   "metadata": {
    "pycharm": {
     "name": "#%%\n"
    }
   },
   "outputs": [],
   "source": [
    "from statsmodels.api import OLS"
   ]
  },
  {
   "cell_type": "markdown",
   "metadata": {
    "pycharm": {
     "name": "#%% md\n"
    }
   },
   "source": [
    "statsmodels uses a similar syntax to scikit learn of createing a model, fitting it, and\n",
    "returning the summary."
   ]
  },
  {
   "cell_type": "code",
   "execution_count": 71,
   "metadata": {
    "pycharm": {
     "name": "#%%\n"
    }
   },
   "outputs": [
    {
     "name": "stdout",
     "output_type": "stream",
     "text": [
      "                                 OLS Regression Results                                \n",
      "=======================================================================================\n",
      "Dep. Variable:                      y   R-squared (uncentered):                   0.120\n",
      "Model:                            OLS   Adj. R-squared (uncentered):              0.057\n",
      "Method:                 Least Squares   F-statistic:                              1.915\n",
      "Date:                Tue, 07 Dec 2021   Prob (F-statistic):                      0.0478\n",
      "Time:                        13:55:01   Log-Likelihood:                         -969.69\n",
      "No. Observations:                 150   AIC:                                      1959.\n",
      "Df Residuals:                     140   BIC:                                      1989.\n",
      "Df Model:                          10                                                  \n",
      "Covariance Type:            nonrobust                                                  \n",
      "==============================================================================\n",
      "                 coef    std err          t      P>|t|      [0.025      0.975]\n",
      "------------------------------------------------------------------------------\n",
      "x1          -605.5153    314.847     -1.923      0.056   -1227.985      16.954\n",
      "x2           -73.0874    336.515     -0.217      0.828    -738.396     592.221\n",
      "x3           861.8073    357.009      2.414      0.017     155.981    1567.633\n",
      "x4           102.4805    351.776      0.291      0.771    -592.999     797.960\n",
      "x5         -3406.6433   2480.927     -1.373      0.172   -8311.569    1498.283\n",
      "x6          2145.5472   2070.102      1.036      0.302   -1947.156    6238.251\n",
      "x7          1458.8376   1184.100      1.232      0.220    -882.192    3799.867\n",
      "x8           401.9736    823.814      0.488      0.626   -1226.751    2030.699\n",
      "x9          1483.3050    906.244      1.637      0.104    -308.388    3274.998\n",
      "x10           53.7591    316.034      0.170      0.865    -571.057     678.576\n",
      "==============================================================================\n",
      "Omnibus:                        0.421   Durbin-Watson:                   0.322\n",
      "Prob(Omnibus):                  0.810   Jarque-Bera (JB):                0.310\n",
      "Skew:                          -0.111   Prob(JB):                        0.856\n",
      "Kurtosis:                       3.007   Cond. No.                         25.2\n",
      "==============================================================================\n",
      "\n",
      "Notes:\n",
      "[1] R² is computed without centering (uncentered) since the model does not contain a constant.\n",
      "[2] Standard Errors assume that the covariance matrix of the errors is correctly specified.\n"
     ]
    }
   ],
   "source": [
    "model = OLS(y, X)\n",
    "fitted_model = model.fit()\n",
    "result = fitted_model.summary()\n",
    "\n",
    "print(result)"
   ]
  },
  {
   "cell_type": "markdown",
   "metadata": {
    "pycharm": {
     "name": "#%% md\n"
    }
   },
   "source": [
    "Today's goal, however, is to do Lasso on this same dataset.\n",
    "To start, lets create a Lasso object. Notice that we are not\n",
    "setting the alpha/gamma value when we create it."
   ]
  },
  {
   "cell_type": "code",
   "execution_count": 48,
   "metadata": {
    "pycharm": {
     "name": "#%%\n"
    }
   },
   "outputs": [
    {
     "data": {
      "text/plain": "Lasso(max_iter=10000, random_state=0)"
     },
     "execution_count": 48,
     "metadata": {},
     "output_type": "execute_result"
    }
   ],
   "source": [
    "lasso = Lasso(random_state=0, max_iter=10000)\n",
    "lasso"
   ]
  },
  {
   "cell_type": "markdown",
   "metadata": {
    "pycharm": {
     "name": "#%% md\n"
    }
   },
   "source": [
    "Instead, we are going to test a variety of different alphas, as here:"
   ]
  },
  {
   "cell_type": "code",
   "execution_count": 49,
   "metadata": {
    "pycharm": {
     "name": "#%%\n"
    }
   },
   "outputs": [
    {
     "data": {
      "text/plain": "array([0.001     , 0.00121957, 0.00148735, 0.00181393, 0.00221222,\n       0.00269795, 0.00329034, 0.00401281, 0.0048939 , 0.00596846,\n       0.00727895, 0.0088772 , 0.01082637, 0.01320352, 0.01610262,\n       0.01963828, 0.02395027, 0.02920904, 0.03562248, 0.04344412,\n       0.05298317, 0.06461671, 0.07880463, 0.0961078 , 0.11721023,\n       0.14294613, 0.17433288, 0.21261123, 0.25929438, 0.31622777])"
     },
     "execution_count": 49,
     "metadata": {},
     "output_type": "execute_result"
    }
   ],
   "source": [
    "alphas = np.logspace(-3, -0.5, 30)\n",
    "alphas"
   ]
  },
  {
   "cell_type": "markdown",
   "metadata": {
    "pycharm": {
     "name": "#%% md\n"
    }
   },
   "source": [
    "We are going to be passing this range of tuning parameters to a GridSearch function\n",
    "that will test which works best when cross-validation methods are applied.\n",
    "First though, we have to put the alphas into the form the GridSearchCV funciton\n",
    "Expects, which is a list of dictionaries."
   ]
  },
  {
   "cell_type": "code",
   "execution_count": 50,
   "metadata": {
    "pycharm": {
     "name": "#%%\n"
    }
   },
   "outputs": [],
   "source": [
    "tuning_parameters = [{'alpha': alphas}]"
   ]
  },
  {
   "cell_type": "markdown",
   "metadata": {
    "pycharm": {
     "name": "#%% md\n"
    }
   },
   "source": [
    "Recall that CV works by calculating the fit quality of different folds of the\n",
    "TRAINING data. Here we will just use 5 folds."
   ]
  },
  {
   "cell_type": "code",
   "execution_count": 51,
   "metadata": {
    "pycharm": {
     "name": "#%%\n"
    }
   },
   "outputs": [],
   "source": [
    "n_folds = 5"
   ]
  },
  {
   "cell_type": "markdown",
   "metadata": {
    "pycharm": {
     "name": "#%% md\n"
    }
   },
   "source": [
    "Finally, we have all our objects ready to pass to the GridSearchVC function which will\n",
    "Give us back a classifier object."
   ]
  },
  {
   "cell_type": "code",
   "execution_count": 52,
   "metadata": {
    "pycharm": {
     "name": "#%%\n"
    }
   },
   "outputs": [],
   "source": [
    "clf = GridSearchCV(lasso, tuning_parameters, cv=n_folds, refit=False)"
   ]
  },
  {
   "cell_type": "markdown",
   "metadata": {
    "pycharm": {
     "name": "#%% md\n"
    }
   },
   "source": [
    "When we call the clf.fit() method, we will iteratively be calling the Lasso.fit() with different permutations of\n",
    "tuned parameters and then will return the classifier with the best CV fit."
   ]
  },
  {
   "cell_type": "code",
   "execution_count": 53,
   "metadata": {
    "pycharm": {
     "name": "#%%\n"
    }
   },
   "outputs": [
    {
     "data": {
      "text/plain": "GridSearchCV(cv=5, estimator=Lasso(max_iter=10000, random_state=0),\n             param_grid=[{'alpha': array([0.001     , 0.00121957, 0.00148735, 0.00181393, 0.00221222,\n       0.00269795, 0.00329034, 0.00401281, 0.0048939 , 0.00596846,\n       0.00727895, 0.0088772 , 0.01082637, 0.01320352, 0.01610262,\n       0.01963828, 0.02395027, 0.02920904, 0.03562248, 0.04344412,\n       0.05298317, 0.06461671, 0.07880463, 0.0961078 , 0.11721023,\n       0.14294613, 0.17433288, 0.21261123, 0.25929438, 0.31622777])}],\n             refit=False)"
     },
     "execution_count": 53,
     "metadata": {},
     "output_type": "execute_result"
    }
   ],
   "source": [
    "clf.fit(X, y)"
   ]
  },
  {
   "cell_type": "markdown",
   "metadata": {
    "pycharm": {
     "name": "#%% md\n"
    }
   },
   "source": [
    "The classifier object now has a variety of diagnostic metrics, reporting\n",
    "back on different folds within the Cross Validation"
   ]
  },
  {
   "cell_type": "code",
   "execution_count": 54,
   "metadata": {
    "pycharm": {
     "name": "#%%\n"
    }
   },
   "outputs": [
    {
     "name": "stdout",
     "output_type": "stream",
     "text": [
      "clf keys returned: dict_keys(['mean_fit_time', 'std_fit_time', 'mean_score_time', 'std_score_time', 'param_alpha', 'params', 'split0_test_score', 'split1_test_score', 'split2_test_score', 'split3_test_score', 'split4_test_score', 'mean_test_score', 'std_test_score', 'rank_test_score'])\n"
     ]
    }
   ],
   "source": [
    "print('clf keys returned:', clf.cv_results_.keys())"
   ]
  },
  {
   "cell_type": "markdown",
   "metadata": {
    "pycharm": {
     "name": "#%% md\n"
    }
   },
   "source": [
    "Some relevant results are as below, which we'll extract and assign to lists."
   ]
  },
  {
   "cell_type": "code",
   "execution_count": 55,
   "metadata": {
    "pycharm": {
     "name": "#%%\n"
    }
   },
   "outputs": [],
   "source": [
    "scores = clf.cv_results_['mean_test_score']\n",
    "scores_std = clf.cv_results_['std_test_score']"
   ]
  },
  {
   "cell_type": "markdown",
   "metadata": {
    "pycharm": {
     "name": "#%% md\n"
    }
   },
   "source": [
    "CLASS Activity: break out into groups and explore the scores and alphas lists we've created.\n",
    "Identify which alpha is the best, based on the MSE score returned. One way to consider doing this\n",
    "would be to create a for loop to iterate through a range(len(scores)): object, reporting the\n",
    "alphas and scores. save the optimal alpha as chosen_alpha."
   ]
  },
  {
   "cell_type": "code",
   "execution_count": 56,
   "metadata": {
    "pycharm": {
     "name": "#%%\n"
    }
   },
   "outputs": [
    {
     "name": "stdout",
     "output_type": "stream",
     "text": [
      "Alpha: 0.001  Score: 0.39985186447790266\n",
      "Alpha: 0.0012195704601594415  Score: 0.4006798643951509\n",
      "Alpha: 0.0014873521072935117  Score: 0.4016798073245507\n",
      "Alpha: 0.0018139306939110632  Score: 0.4028842752363017\n",
      "Alpha: 0.00221221629107045  Score: 0.40433172514013815\n",
      "Alpha: 0.0026979536400729993  Score: 0.405667860544899\n",
      "Alpha: 0.0032903445623126675  Score: 0.40724316884204104\n",
      "Alpha: 0.004012807031942776  Score: 0.4090867739885159\n",
      "Alpha: 0.004893900918477494  Score: 0.41123992710084034\n",
      "Alpha: 0.0059684569951223105  Score: 0.41373275726204967\n",
      "Alpha: 0.007278953843983154  Score: 0.41687654049176387\n",
      "Alpha: 0.00887719708898586  Score: 0.4196596041622847\n",
      "Alpha: 0.010826367338740546  Score: 0.4209239875028408\n",
      "Alpha: 0.013203517797162955  Score: 0.42175214907603314\n",
      "Alpha: 0.01610262027560939  Score: 0.4226042851560431\n",
      "Alpha: 0.0196382800192977  Score: 0.42355432142656735\n",
      "Alpha: 0.02395026619987486  Score: 0.42456335810460144\n",
      "Alpha: 0.0292090371703225  Score: 0.4257065180958827\n",
      "Alpha: 0.03562247890262444  Score: 0.42696860273711623\n",
      "Alpha: 0.043444122987293665  Score: 0.42907711964827355\n",
      "Alpha: 0.0529831690628371  Score: 0.4315926997034536\n",
      "Alpha: 0.06461670787466972  Score: 0.43258718864517637\n",
      "Alpha: 0.07880462815669913  Score: 0.4329899202589985\n",
      "Alpha: 0.09610779662375922  Score: 0.4320932671651665\n",
      "Alpha: 0.11721022975334805  Score: 0.429585774644255\n",
      "Alpha: 0.14294613383568455  Score: 0.42560531729307616\n",
      "Alpha: 0.1743328822199989  Score: 0.4192977628178576\n",
      "Alpha: 0.21261123338996576  Score: 0.40929435447982776\n",
      "Alpha: 0.2592943797404667  Score: 0.39589331760643487\n",
      "Alpha: 0.31622776601683794  Score: 0.3759414987687618\n"
     ]
    }
   ],
   "source": [
    "for i in range(len(scores)):\n",
    "    alpha = alphas[i]\n",
    "    score = scores[i]\n",
    "    print('Alpha:', alpha, ' Score:', score)"
   ]
  },
  {
   "cell_type": "markdown",
   "metadata": {
    "pycharm": {
     "name": "#%% md\n"
    }
   },
   "source": [
    "Fortunately, the authors provide a useful  best_params_ attribute."
   ]
  },
  {
   "cell_type": "code",
   "execution_count": 57,
   "metadata": {
    "pycharm": {
     "name": "#%%\n"
    }
   },
   "outputs": [
    {
     "name": "stdout",
     "output_type": "stream",
     "text": [
      "best_parameters: {'alpha': 0.07880462815669913}\n"
     ]
    }
   ],
   "source": [
    "print('best_parameters:', clf.best_params_)"
   ]
  },
  {
   "cell_type": "markdown",
   "metadata": {
    "pycharm": {
     "name": "#%% md\n"
    }
   },
   "source": [
    "Extract the best alpha, which we will use later."
   ]
  },
  {
   "cell_type": "code",
   "execution_count": 58,
   "metadata": {
    "pycharm": {
     "name": "#%%\n"
    }
   },
   "outputs": [
    {
     "name": "stdout",
     "output_type": "stream",
     "text": [
      "chosen_alpha 0.07880462815669913\n"
     ]
    }
   ],
   "source": [
    "chosen_alpha = clf.best_params_['alpha']\n",
    "print('chosen_alpha', chosen_alpha)"
   ]
  },
  {
   "cell_type": "markdown",
   "metadata": {
    "pycharm": {
     "name": "#%% md\n"
    }
   },
   "source": [
    "Now we can rerun a vanilla (no CV) version of Lasso with that specific alpha.\n",
    "This will return, for instance, a .coef_ list."
   ]
  },
  {
   "cell_type": "code",
   "execution_count": 59,
   "metadata": {
    "pycharm": {
     "name": "#%%\n"
    }
   },
   "outputs": [
    {
     "name": "stdout",
     "output_type": "stream",
     "text": [
      "coefficients [ -26.87296467 -318.08398693  427.47088103  272.29697927   -0.\n",
      " -181.30932614 -262.37158423    0.          613.15733943   71.09066701]\n"
     ]
    }
   ],
   "source": [
    "clf2 = Lasso(alpha=chosen_alpha, random_state=0, max_iter=10000).fit(X, y)\n",
    "\n",
    "print(\"coefficients\", clf2.coef_)"
   ]
  },
  {
   "cell_type": "markdown",
   "metadata": {
    "pycharm": {
     "name": "#%% md\n"
    }
   },
   "source": [
    "Simply looking at the coefficients tells us which are to be included.\n",
    "Question: How will we know just by looking?\n",
    "\n",
    "Extract the feature names and colum indices of the features that Lasso has selected."
   ]
  },
  {
   "cell_type": "code",
   "execution_count": 60,
   "metadata": {
    "pycharm": {
     "name": "#%%\n"
    }
   },
   "outputs": [
    {
     "name": "stdout",
     "output_type": "stream",
     "text": [
      "Coefficient age was -26.87296466882342\n",
      "Coefficient sex was -318.08398693052766\n",
      "Coefficient bmi was 427.4708810349895\n",
      "Coefficient bp was 272.2969792689482\n",
      "Coefficient s1 was -0.0\n",
      "Coefficient s2 was -181.309326139783\n",
      "Coefficient s3 was -262.3715842264043\n",
      "Coefficient s4 was 0.0\n",
      "Coefficient s5 was 613.1573394318494\n",
      "Coefficient s6 was 71.0906670110729\n"
     ]
    }
   ],
   "source": [
    "selected_coefficient_labels = []\n",
    "selected_coefficient_indices = []\n",
    "for i in range(len(clf2.coef_)):\n",
    "    print('Coefficient', feature_names[i], 'was', clf2.coef_[i])\n",
    "    if abs(clf2.coef_[i]) > 0:\n",
    "        selected_coefficient_labels.append(feature_names[i])\n",
    "        selected_coefficient_indices.append(i)"
   ]
  },
  {
   "cell_type": "markdown",
   "metadata": {
    "pycharm": {
     "name": "#%% md\n"
    }
   },
   "source": [
    "This process led us to the following selected_coefficient_labels:"
   ]
  },
  {
   "cell_type": "code",
   "execution_count": 61,
   "metadata": {
    "pycharm": {
     "name": "#%%\n"
    }
   },
   "outputs": [
    {
     "name": "stdout",
     "output_type": "stream",
     "text": [
      "selected_coefficient_labels ['age', 'sex', 'bmi', 'bp', 's2', 's3', 's5', 's6']\n"
     ]
    }
   ],
   "source": [
    "print('selected_coefficient_labels', selected_coefficient_labels)"
   ]
  },
  {
   "cell_type": "markdown",
   "metadata": {
    "pycharm": {
     "name": "#%% md\n"
    }
   },
   "source": [
    "For fun, let's plot the alphas, scores and a confidence range.\n",
    "What does this show us about the optimal alpha and how it varies with score?"
   ]
  },
  {
   "cell_type": "code",
   "execution_count": 62,
   "metadata": {
    "pycharm": {
     "name": "#%%\n"
    }
   },
   "outputs": [
    {
     "data": {
      "text/plain": "[<matplotlib.lines.Line2D at 0x2c07d09d040>]"
     },
     "execution_count": 62,
     "metadata": {},
     "output_type": "execute_result"
    },
    {
     "data": {
      "text/plain": "<Figure size 576x432 with 1 Axes>",
      "image/png": "[encoded data removed]"
     },
     "metadata": {
      "needs_background": "light"
     },
     "output_type": "display_data"
    }
   ],
   "source": [
    "plt.figure().set_size_inches(8, 6)\n",
    "plt.semilogx(alphas, scores)"
   ]
  },
  {
   "cell_type": "markdown",
   "metadata": {
    "pycharm": {
     "name": "#%% md\n"
    }
   },
   "source": [
    "plot error lines showing +/- std. errors of the scores"
   ]
  },
  {
   "cell_type": "code",
   "execution_count": 63,
   "metadata": {
    "pycharm": {
     "name": "#%%\n"
    }
   },
   "outputs": [
    {
     "data": {
      "text/plain": "[<matplotlib.lines.Line2D at 0x2c07d1bb040>]"
     },
     "execution_count": 63,
     "metadata": {},
     "output_type": "execute_result"
    },
    {
     "data": {
      "text/plain": "<Figure size 432x288 with 1 Axes>",
      "image/png": "[encoded data removed]"
     },
     "metadata": {
      "needs_background": "light"
     },
     "output_type": "display_data"
    }
   ],
   "source": [
    "std_error = scores_std / np.sqrt(n_folds)\n",
    "\n",
    "plt.semilogx(alphas, scores + std_error, 'b--')\n",
    "plt.semilogx(alphas, scores - std_error, 'b--')"
   ]
  },
  {
   "cell_type": "markdown",
   "metadata": {
    "pycharm": {
     "name": "#%% md\n"
    }
   },
   "source": [
    "alpha=0.2 controls the translucency of the fill color"
   ]
  },
  {
   "cell_type": "code",
   "execution_count": 64,
   "metadata": {
    "pycharm": {
     "name": "#%%\n"
    }
   },
   "outputs": [
    {
     "data": {
      "text/plain": "<Figure size 432x288 with 1 Axes>",
      "image/png": "[encoded data removed]"
     },
     "metadata": {
      "needs_background": "light"
     },
     "output_type": "display_data"
    }
   ],
   "source": [
    "plt.fill_between(alphas, scores + std_error, scores - std_error, alpha=0.2)\n",
    "\n",
    "plt.ylabel('CV score +/- std error')\n",
    "plt.xlabel('alpha')\n",
    "plt.axhline(np.max(scores), linestyle='--', color='.5')\n",
    "plt.xlim([alphas[0], alphas[-1]])\n",
    "\n",
    "plt.show()"
   ]
  },
  {
   "cell_type": "markdown",
   "metadata": {},
   "source": [
    "Finally, now that we have our selected labels, we can use them to select the numpy array\n",
    "columns that we want to use for a post-LASSO run."
   ]
  },
  {
   "cell_type": "code",
   "execution_count": 65,
   "metadata": {
    "pycharm": {
     "name": "#%%\n"
    }
   },
   "outputs": [
    {
     "name": "stdout",
     "output_type": "stream",
     "text": [
      "new_x [[ 0.03807591  0.05068012  0.06169621 ... -0.04340085  0.01990842\n",
      "  -0.01764613]\n",
      " [-0.00188202 -0.04464164 -0.05147406 ...  0.07441156 -0.06832974\n",
      "  -0.09220405]\n",
      " [ 0.08529891  0.05068012  0.04445121 ... -0.03235593  0.00286377\n",
      "  -0.02593034]\n",
      " ...\n",
      " [-0.05637009 -0.04464164  0.09295276 ... -0.02867429  0.02605609\n",
      "   0.04034337]\n",
      " [-0.06000263  0.05068012  0.01535029 ...  0.019187   -0.03075121\n",
      "  -0.0010777 ]\n",
      " [-0.04910502  0.05068012 -0.00512814 ... -0.06917231  0.06123791\n",
      "  -0.03835666]]\n"
     ]
    }
   ],
   "source": [
    "new_x = X[:, selected_coefficient_indices]\n",
    "\n",
    "print('new_x', new_x)"
   ]
  },
  {
   "cell_type": "markdown",
   "metadata": {},
   "source": [
    "Plug this new x matrix into our statsmodels OLS function and print that out.\n",
    "How is this better than a vanilla OLS?"
   ]
  },
  {
   "cell_type": "code",
   "execution_count": 66,
   "metadata": {
    "pycharm": {
     "name": "#%%\n"
    }
   },
   "outputs": [
    {
     "name": "stdout",
     "output_type": "stream",
     "text": [
      "                                 OLS Regression Results                                \n",
      "=======================================================================================\n",
      "Dep. Variable:                      y   R-squared (uncentered):                   0.108\n",
      "Model:                            OLS   Adj. R-squared (uncentered):              0.058\n",
      "Method:                 Least Squares   F-statistic:                              2.157\n",
      "Date:                Tue, 07 Dec 2021   Prob (F-statistic):                      0.0342\n",
      "Time:                        13:53:59   Log-Likelihood:                         -970.70\n",
      "No. Observations:                 150   AIC:                                      1957.\n",
      "Df Residuals:                     142   BIC:                                      1981.\n",
      "Df Model:                           8                                                  \n",
      "Covariance Type:            nonrobust                                                  \n",
      "==============================================================================\n",
      "                 coef    std err          t      P>|t|      [0.025      0.975]\n",
      "------------------------------------------------------------------------------\n",
      "x1          -602.4967    314.706     -1.914      0.058   -1224.612      19.619\n",
      "x2           -87.4936    335.545     -0.261      0.795    -750.804     575.816\n",
      "x3           883.5144    356.386      2.479      0.014     179.006    1588.022\n",
      "x4            82.1822    349.180      0.235      0.814    -608.080     772.444\n",
      "x5          -559.0996    313.073     -1.786      0.076   -1177.986      59.787\n",
      "x6           -38.0457    331.336     -0.115      0.909    -693.035     616.943\n",
      "x7           392.6521    372.994      1.053      0.294    -344.687    1129.991\n",
      "x8            19.6618    311.651      0.063      0.950    -596.414     635.738\n",
      "==============================================================================\n",
      "Omnibus:                        0.496   Durbin-Watson:                   0.293\n",
      "Prob(Omnibus):                  0.780   Jarque-Bera (JB):                0.585\n",
      "Skew:                          -0.131   Prob(JB):                        0.746\n",
      "Kurtosis:                       2.842   Cond. No.                         2.98\n",
      "==============================================================================\n",
      "\n",
      "Notes:\n",
      "[1] R² is computed without centering (uncentered) since the model does not contain a constant.\n",
      "[2] Standard Errors assume that the covariance matrix of the errors is correctly specified.\n"
     ]
    }
   ],
   "source": [
    "result = OLS(y, new_x).fit().summary()\n",
    "\n",
    "print(result)\n",
    "\n"
   ]
  }
 ],
 "metadata": {
  "kernelspec": {
   "display_name": "Python 3 (ipykernel)",
   "language": "python",
   "name": "python3"
  },
  "language_info": {
   "codemirror_mode": {
    "name": "ipython",
    "version": 3
   },
   "file_extension": ".py",
   "mimetype": "text/x-python",
   "name": "python",
   "nbconvert_exporter": "python",
   "pygments_lexer": "ipython3",
   "version": "3.9.7"
  }
 },
 "nbformat": 4,
 "nbformat_minor": 1
}