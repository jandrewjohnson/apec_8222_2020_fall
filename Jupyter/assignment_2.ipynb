{
 "cells": [
  {
   "cell_type": "markdown",
   "source": [
    "# Assignment 2: Big and spatial data in Python\n",
    "\n",
    "For this assignment, you will be using numpy to manipulate arrays in a way that works well for big data and will be using spatial tools to assess land-use change. For the python component of this assignment, you will submit 2 things:\n",
    "\n",
    "1. A Jupyter notebook that explains and runs your code.\n",
    "2. A pdf that you exported from Chrome (or whatever browser you use) that shows your Jupyter notebook with the results displayed. Because we're running Jupyter in a browser, all you need to do to export the finished product is just Print the file and select \"Adobe PDF\" as your printing method.\n",
    "\n",
    "This question uses data froma global, 300m resolution land-use, land-cover (LULC) map produced by ESACCI. They provide a wonderful time series of data from 1992-2019. If you want more information, check out their web viewer at https://maps.elie.ucl.ac.be/CCI/viewer/. Here you can view the data but also learn more about the classification regressions that uses time-series spectral data patterns to classify grid-cells into different types. I have extracted lulc maps for the country of Rwanda, which you will find in this assignment's data folder.\n",
    "\n",
    "## Question 1\n",
    "\n",
    "Part a.) Using the gdal package and the gdal.Open() function, open up the land-use, land-cover map for Rwanda in 2000.\n",
    "\n",
    "In this file, there is only 1 band in this file, so you can also access it with the GetRasterBand(1) function. Without reading the whole array, show how you can determine how many total grid-cells there are in this country\n",
    "\n",
    "Part b.) Using the results of part a, read the whole array into memory as a numpy array (the default option when using the ReadAsArray() funciton, and plot it using the matplotlib imshow command. Add a nice title to the plot describing what it is.\n",
    "\n",
    "Part c.) Using the legend you find at https://maps.elie.ucl.ac.be/CCI/viewer/download/ESACCI-LC-QuickUserGuide-LC-Maps_v2-0-7.pdf reclassify the LULC into a simplified map where 1 = cropland (including any mosaic types that are partially cropland) and 0 = anything else. Plot this using imshow.\n",
    "\n",
    "Part d.) Repeat the process for the 2010 LULC map. Using this array with the one from part c, create a new array that records where there was cropland expansion (i.e., there is cropland in 2010 but not in 2000) and where there was cropland abandonment (cropland in 2000 but not in 2010). Save this classification in a single new array. Plot this last array and add a legend indicating which values in the array denote expansion and abandonment.\n",
    "\n",
    "Part e.) Overall, did Rwanada see net expansion or contraction of cropland over this period? Looking at the spatial results, do you see any patterns of where this happens? Is it in the north/south, near cities, replacing forests etc.?"
   ],
   "metadata": {
    "collapsed": false
   }
  }
 ],
 "metadata": {
  "anaconda-cloud": {},
  "kernelspec": {
   "display_name": "Python 3 (ipykernel)",
   "language": "python",
   "name": "python3"
  },
  "language_info": {
   "codemirror_mode": {
    "name": "ipython",
    "version": 3
   },
   "file_extension": ".py",
   "mimetype": "text/x-python",
   "name": "python",
   "nbconvert_exporter": "python",
   "pygments_lexer": "ipython3",
   "version": "3.9.7"
  }
 },
 "nbformat": 4,
 "nbformat_minor": 1
}